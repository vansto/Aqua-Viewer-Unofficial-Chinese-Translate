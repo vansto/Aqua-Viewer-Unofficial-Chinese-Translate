{
  "cells": [
    {
      "cell_type": "markdown",
      "metadata": {
        "id": "view-in-github",
        "colab_type": "text"
      },
      "source": [
        "<a href=\"https://colab.research.google.com/github/vansto/Aqua-Viewer-Unofficial-Chinese-Translate/blob/master/colab_whipser_stream_translator.ipynb\" target=\"_parent\"><img src=\"https://colab.research.google.com/assets/colab-badge.svg\" alt=\"Open In Colab\"/></a>"
      ]
    },
    {
      "cell_type": "markdown",
      "source": [
        "# 使用colab云端运行自动字幕程序\n"
      ],
      "metadata": {
        "id": "Lbja1jB3vDOT"
      }
    },
    {
      "cell_type": "markdown",
      "source": [
        "第一步从github上将要用到的项目复制下来  \n",
        "这里前面的!是为了告诉colab  \n",
        "**这一步我们用的是shell命令而不是python语句**"
      ],
      "metadata": {
        "id": "dSJ6EpRAbRZ7"
      }
    },
    {
      "cell_type": "code",
      "source": [
        "!git clone https://github.com/fortypercnt/stream-translator.git"
      ],
      "metadata": {
        "id": "JyWu-c57JdGH",
        "outputId": "8c92b7d7-06a8-44a3-d119-c47e82cd4628",
        "colab": {
          "base_uri": "https://localhost:8080/"
        }
      },
      "execution_count": null,
      "outputs": [
        {
          "output_type": "stream",
          "name": "stdout",
          "text": [
            "Cloning into 'stream-translator'...\n",
            "remote: Enumerating objects: 54, done.\u001b[K\n",
            "remote: Counting objects: 100% (54/54), done.\u001b[K\n",
            "remote: Compressing objects: 100% (41/41), done.\u001b[K\n",
            "remote: Total 54 (delta 29), reused 29 (delta 12), pack-reused 0\u001b[K\n",
            "Unpacking objects: 100% (54/54), done.\n"
          ]
        }
      ]
    },
    {
      "cell_type": "markdown",
      "source": [
        "下一步安装依赖"
      ],
      "metadata": {
        "id": "uaA0w3BkdJ4I"
      }
    },
    {
      "cell_type": "code",
      "source": [
        "!pip install -r /content/stream-translator/requirements.txt"
      ],
      "metadata": {
        "colab": {
          "base_uri": "https://localhost:8080/"
        },
        "id": "dz0JHOwwdHUH",
        "outputId": "5f54aa2d-53b7-4fb7-82db-7583dea01a14"
      },
      "execution_count": null,
      "outputs": [
        {
          "output_type": "stream",
          "name": "stdout",
          "text": [
            "Looking in indexes: https://pypi.org/simple, https://us-python.pkg.dev/colab-wheels/public/simple/, https://download.pytorch.org/whl/cu113\n",
            "Collecting git+https://github.com/openai/whisper.git (from -r /content/stream-translator/requirements.txt (line 8))\n",
            "  Cloning https://github.com/openai/whisper.git to /tmp/pip-req-build-6ltzjcoo\n",
            "  Running command git clone -q https://github.com/openai/whisper.git /tmp/pip-req-build-6ltzjcoo\n",
            "Requirement already satisfied: numpy in /usr/local/lib/python3.7/dist-packages (from -r /content/stream-translator/requirements.txt (line 1)) (1.21.6)\n",
            "Requirement already satisfied: tqdm in /usr/local/lib/python3.7/dist-packages (from -r /content/stream-translator/requirements.txt (line 2)) (4.64.1)\n",
            "Requirement already satisfied: more-itertools in /usr/local/lib/python3.7/dist-packages (from -r /content/stream-translator/requirements.txt (line 3)) (8.14.0)\n",
            "Requirement already satisfied: torch in /usr/local/lib/python3.7/dist-packages (from -r /content/stream-translator/requirements.txt (line 5)) (1.12.1+cu113)\n",
            "Collecting transformers>=4.19.0\n",
            "  Downloading transformers-4.23.1-py3-none-any.whl (5.3 MB)\n",
            "\u001b[K     |████████████████████████████████| 5.3 MB 7.1 MB/s \n",
            "\u001b[?25hCollecting ffmpeg-python==0.2.0\n",
            "  Downloading ffmpeg_python-0.2.0-py3-none-any.whl (25 kB)\n",
            "Collecting streamlink\n",
            "  Downloading streamlink-5.0.1-py3-none-any.whl (351 kB)\n",
            "\u001b[K     |████████████████████████████████| 351 kB 62.7 MB/s \n",
            "\u001b[?25hRequirement already satisfied: future in /usr/local/lib/python3.7/dist-packages (from ffmpeg-python==0.2.0->-r /content/stream-translator/requirements.txt (line 7)) (0.16.0)\n",
            "Requirement already satisfied: packaging>=20.0 in /usr/local/lib/python3.7/dist-packages (from transformers>=4.19.0->-r /content/stream-translator/requirements.txt (line 6)) (21.3)\n",
            "Requirement already satisfied: regex!=2019.12.17 in /usr/local/lib/python3.7/dist-packages (from transformers>=4.19.0->-r /content/stream-translator/requirements.txt (line 6)) (2022.6.2)\n",
            "Requirement already satisfied: requests in /usr/local/lib/python3.7/dist-packages (from transformers>=4.19.0->-r /content/stream-translator/requirements.txt (line 6)) (2.23.0)\n",
            "Requirement already satisfied: pyyaml>=5.1 in /usr/local/lib/python3.7/dist-packages (from transformers>=4.19.0->-r /content/stream-translator/requirements.txt (line 6)) (6.0)\n",
            "Collecting huggingface-hub<1.0,>=0.10.0\n",
            "  Downloading huggingface_hub-0.10.1-py3-none-any.whl (163 kB)\n",
            "\u001b[K     |████████████████████████████████| 163 kB 66.3 MB/s \n",
            "\u001b[?25hRequirement already satisfied: importlib-metadata in /usr/local/lib/python3.7/dist-packages (from transformers>=4.19.0->-r /content/stream-translator/requirements.txt (line 6)) (4.13.0)\n",
            "Collecting tokenizers!=0.11.3,<0.14,>=0.11.1\n",
            "  Downloading tokenizers-0.13.1-cp37-cp37m-manylinux_2_17_x86_64.manylinux2014_x86_64.whl (7.6 MB)\n",
            "\u001b[K     |████████████████████████████████| 7.6 MB 43.2 MB/s \n",
            "\u001b[?25hRequirement already satisfied: filelock in /usr/local/lib/python3.7/dist-packages (from transformers>=4.19.0->-r /content/stream-translator/requirements.txt (line 6)) (3.8.0)\n",
            "Requirement already satisfied: typing-extensions>=3.7.4.3 in /usr/local/lib/python3.7/dist-packages (from huggingface-hub<1.0,>=0.10.0->transformers>=4.19.0->-r /content/stream-translator/requirements.txt (line 6)) (4.1.1)\n",
            "Requirement already satisfied: pyparsing!=3.0.5,>=2.0.2 in /usr/local/lib/python3.7/dist-packages (from packaging>=20.0->transformers>=4.19.0->-r /content/stream-translator/requirements.txt (line 6)) (3.0.9)\n",
            "Requirement already satisfied: lxml<5.0,>=4.6.4 in /usr/local/lib/python3.7/dist-packages (from streamlink->-r /content/stream-translator/requirements.txt (line 9)) (4.9.1)\n",
            "Collecting isodate\n",
            "  Downloading isodate-0.6.1-py2.py3-none-any.whl (41 kB)\n",
            "\u001b[K     |████████████████████████████████| 41 kB 694 kB/s \n",
            "\u001b[?25hCollecting requests\n",
            "  Downloading requests-2.28.1-py3-none-any.whl (62 kB)\n",
            "\u001b[K     |████████████████████████████████| 62 kB 1.6 MB/s \n",
            "\u001b[?25hCollecting pycryptodome<4,>=3.4.3\n",
            "  Downloading pycryptodome-3.15.0-cp35-abi3-manylinux2010_x86_64.whl (2.3 MB)\n",
            "\u001b[K     |████████████████████████████████| 2.3 MB 51.1 MB/s \n",
            "\u001b[?25hRequirement already satisfied: PySocks!=1.5.7,>=1.5.6 in /usr/local/lib/python3.7/dist-packages (from streamlink->-r /content/stream-translator/requirements.txt (line 9)) (1.7.1)\n",
            "Collecting websocket-client<2.0,>=1.2.1\n",
            "  Downloading websocket_client-1.4.1-py3-none-any.whl (55 kB)\n",
            "\u001b[K     |████████████████████████████████| 55 kB 3.6 MB/s \n",
            "\u001b[?25hCollecting pycountry\n",
            "  Downloading pycountry-22.3.5.tar.gz (10.1 MB)\n",
            "\u001b[K     |████████████████████████████████| 10.1 MB 49.7 MB/s \n",
            "\u001b[?25h  Installing build dependencies ... \u001b[?25l\u001b[?25hdone\n",
            "  Getting requirements to build wheel ... \u001b[?25l\u001b[?25hdone\n",
            "    Preparing wheel metadata ... \u001b[?25l\u001b[?25hdone\n",
            "Requirement already satisfied: urllib3<1.27,>=1.21.1 in /usr/local/lib/python3.7/dist-packages (from requests->transformers>=4.19.0->-r /content/stream-translator/requirements.txt (line 6)) (1.24.3)\n",
            "Requirement already satisfied: idna<4,>=2.5 in /usr/local/lib/python3.7/dist-packages (from requests->transformers>=4.19.0->-r /content/stream-translator/requirements.txt (line 6)) (2.10)\n",
            "Requirement already satisfied: certifi>=2017.4.17 in /usr/local/lib/python3.7/dist-packages (from requests->transformers>=4.19.0->-r /content/stream-translator/requirements.txt (line 6)) (2022.9.24)\n",
            "Requirement already satisfied: charset-normalizer<3,>=2 in /usr/local/lib/python3.7/dist-packages (from requests->transformers>=4.19.0->-r /content/stream-translator/requirements.txt (line 6)) (2.1.1)\n",
            "Requirement already satisfied: zipp>=0.5 in /usr/local/lib/python3.7/dist-packages (from importlib-metadata->transformers>=4.19.0->-r /content/stream-translator/requirements.txt (line 6)) (3.9.0)\n",
            "Requirement already satisfied: six in /usr/local/lib/python3.7/dist-packages (from isodate->streamlink->-r /content/stream-translator/requirements.txt (line 9)) (1.15.0)\n",
            "Requirement already satisfied: setuptools in /usr/local/lib/python3.7/dist-packages (from pycountry->streamlink->-r /content/stream-translator/requirements.txt (line 9)) (57.4.0)\n",
            "Building wheels for collected packages: whisper, pycountry\n",
            "  Building wheel for whisper (setup.py) ... \u001b[?25l\u001b[?25hdone\n",
            "  Created wheel for whisper: filename=whisper-1.0-py3-none-any.whl size=1175217 sha256=0ade0f10c0f955912baf8df59a31fb5d338db4ef1a17714616caadcc8d1a6d7c\n",
            "  Stored in directory: /tmp/pip-ephem-wheel-cache-nxc0zc8q/wheels/16/15/89/1c7bb31bd0006793a95549d04785121a8a36daad9158e1e43a\n",
            "  Building wheel for pycountry (PEP 517) ... \u001b[?25l\u001b[?25hdone\n",
            "  Created wheel for pycountry: filename=pycountry-22.3.5-py2.py3-none-any.whl size=10681845 sha256=2a467c09fbd48ccf19718dff0c06d362e8a2cb7e122a6df8ac8d139bb940c256\n",
            "  Stored in directory: /root/.cache/pip/wheels/0e/06/e8/7ee176e95ea9a8a8c3b3afcb1869f20adbd42413d4611c6eb4\n",
            "Successfully built whisper pycountry\n",
            "Installing collected packages: requests, tokenizers, huggingface-hub, websocket-client, transformers, pycryptodome, pycountry, isodate, ffmpeg-python, whisper, streamlink\n",
            "  Attempting uninstall: requests\n",
            "    Found existing installation: requests 2.23.0\n",
            "    Uninstalling requests-2.23.0:\n",
            "      Successfully uninstalled requests-2.23.0\n",
            "Successfully installed ffmpeg-python-0.2.0 huggingface-hub-0.10.1 isodate-0.6.1 pycountry-22.3.5 pycryptodome-3.15.0 requests-2.28.1 streamlink-5.0.1 tokenizers-0.13.1 transformers-4.23.1 websocket-client-1.4.1 whisper-1.0\n"
          ]
        }
      ]
    },
    {
      "cell_type": "markdown",
      "source": [
        "#修改工作"
      ],
      "metadata": {
        "id": "Z6_hXwR9ajWi"
      }
    },
    {
      "cell_type": "markdown",
      "source": [
        "这里有一个小坑  \n",
        "我们先尝试不做任何改动直接运行程序  \n",
        "会发现在模型下载好之后直接报错找不到指定文件  \n",
        "ValueError: The provided filename silero_vad.jit does not exist"
      ],
      "metadata": {
        "id": "G5ltjG3Idz8K"
      }
    },
    {
      "cell_type": "code",
      "source": [
        "!python3 stream-translator/translator.py https://www.youtube.com/watch?v=swe6ea_9P2s"
      ],
      "metadata": {
        "colab": {
          "base_uri": "https://localhost:8080/"
        },
        "id": "bs8mszjbd6zg",
        "outputId": "8e7b6bb9-5f50-409f-a3f8-af22026d2bc2"
      },
      "execution_count": null,
      "outputs": [
        {
          "output_type": "stream",
          "name": "stdout",
          "text": [
            "Loading model...\n",
            "100%|███████████████████████████████████████| 461M/461M [00:09<00:00, 50.7MiB/s]\n",
            "Traceback (most recent call last):\n",
            "  File \"stream-translator/translator.py\", line 226, in <module>\n",
            "    cli()\n",
            "  File \"stream-translator/translator.py\", line 222, in cli\n",
            "    main(url, **args)\n",
            "  File \"stream-translator/translator.py\", line 117, in main\n",
            "    vad = VAD()\n",
            "  File \"/content/stream-translator/vad.py\", line 9, in __init__\n",
            "    self.model = init_jit_model(\"silero_vad.jit\")\n",
            "  File \"/content/stream-translator/vad.py\", line 20, in init_jit_model\n",
            "    model = torch.jit.load(model_path, map_location=device)\n",
            "  File \"/usr/local/lib/python3.7/dist-packages/torch/jit/_serialization.py\", line 152, in load\n",
            "    raise ValueError(\"The provided filename {} does not exist\".format(f))  # type: ignore[str-bytes-safe]\n",
            "ValueError: The provided filename silero_vad.jit does not exist\n"
          ]
        }
      ]
    },
    {
      "cell_type": "markdown",
      "source": [
        "点击左侧的文件夹📂  \n",
        "选择stream-translator  \n",
        "右键silero_vad.jit获取文件地址  \n",
        "双击vad.py可以看到右侧打开了一个在线编辑页面  \n",
        "我们在第9行将init_jit_model后面括号里的内容  \n",
        "改为刚才复制的文件地址  \n",
        "然后ctrl+s保存后关闭文件  \n",
        "这里是因为colab直接git下来的项目  \n",
        "运行的时候这里会出现无法指定到正确路径的问题  \n",
        "所以需要手动改为绝对路径"
      ],
      "metadata": {
        "id": "zuHOPp8catS1"
      }
    },
    {
      "cell_type": "markdown",
      "source": [
        "#开始运行"
      ],
      "metadata": {
        "id": "jeIZ3okhao8Q"
      }
    },
    {
      "cell_type": "markdown",
      "source": [
        "网址改为你想要实时转录的直播  \n",
        "理论上来说只要streamlink支持的网站都可以"
      ],
      "metadata": {
        "id": "vx5Y_Mf5cXs4"
      }
    },
    {
      "cell_type": "code",
      "source": [
        "!python3 stream-translator/translator.py https://www.youtube.com/watch?v=arA8dig-S9o"
      ],
      "metadata": {
        "id": "scuUKqmEV7-U",
        "outputId": "699769cd-3fbf-4ebf-a3d1-df85f41d0386",
        "colab": {
          "base_uri": "https://localhost:8080/"
        }
      },
      "execution_count": null,
      "outputs": [
        {
          "output_type": "stream",
          "name": "stdout",
          "text": [
            "Loading model...\n",
            "Opening stream...\n",
            "[cli][info] streamlink is running as root! Be careful!\n",
            "[cli][info] Found matching plugin youtube for URL https://www.youtube.com/watch?v=arA8dig-S9o\n",
            "[cli][info] Available streams: 144p (worst), 240p, 360p, 480p, 720p, 1080p (best)\n",
            "[cli][info] Opening stream: 1080p (hls)\n",
            "16:17:06 (ja)  but I am worried because there are too many time limit!\n",
            "16:17:08 (ja)  Everybody got excited? It's very okay...\n",
            "16:17:09 (ja)  I don't want to continue. I don't think everyone is interested.\n",
            "16:17:10 (ja)  I want you to read it if you're interested.\n",
            "16:17:11 (ja)  The story is really good.\n",
            "16:17:19 (ja)  cosplay Sacrifice, Huh? Is it bad? Oppa's talents are in your mind. You gotta tell me.\n",
            "16:17:23 (ja) \n",
            "Traceback (most recent call last):\n",
            "  File \"stream-translator/translator.py\", line 226, in <module>\n",
            "    cli()\n",
            "  File \"stream-translator/translator.py\", line 222, in cli\n",
            "    main(url, **args)\n",
            "  File \"stream-translator/translator.py\", line 139, in main\n",
            "    **decode_options)\n",
            "  File \"/usr/local/lib/python3.7/dist-packages/whisper/transcribe.py\", line 181, in transcribe\n",
            "    result: DecodingResult = decode_with_fallback(segment)\n",
            "  File \"/usr/local/lib/python3.7/dist-packages/whisper/transcribe.py\", line 117, in decode_with_fallback\n",
            "    decode_result = model.decode(segment, options)\n",
            "  File \"/usr/local/lib/python3.7/dist-packages/torch/autograd/grad_mode.py\", line 27, in decorate_context\n",
            "    return func(*args, **kwargs)\n",
            "  File \"/usr/local/lib/python3.7/dist-packages/whisper/decoding.py\", line 701, in decode\n",
            "    result = DecodingTask(model, options).run(mel)\n",
            "  File \"/usr/local/lib/python3.7/dist-packages/torch/autograd/grad_mode.py\", line 27, in decorate_context\n",
            "    return func(*args, **kwargs)\n",
            "  File \"/usr/local/lib/python3.7/dist-packages/whisper/decoding.py\", line 633, in run\n",
            "    tokens, sum_logprobs, no_speech_probs = self._main_loop(audio_features, tokens)\n",
            "  File \"/usr/local/lib/python3.7/dist-packages/whisper/decoding.py\", line 592, in _main_loop\n",
            "    no_speech_probs = probs_at_sot[:, self.tokenizer.no_speech].tolist()\n",
            "KeyboardInterrupt\n"
          ]
        }
      ]
    },
    {
      "cell_type": "markdown",
      "source": [
        "忽略结尾因手动暂停而产生的报错信息  \n",
        "转录出的结果看起来还是有些怪怪的  \n",
        "我们一个个解决  \n",
        "\n",
        "\n",
        "*   **转录出来的东西是英文**  \n",
        "这是因为stream_translator的作者默认设置的是开启英文翻译  \n",
        "运行的时候需要在后面加上参数 --task transcribe\n",
        "*   **有时候识别出来的语种并不是主播说的**  \n",
        "语言参数默认为auto  \n",
        "也就是每一句都是自动识别语种  \n",
        "更改为指定语言可以解决这一问题\n",
        "*   **不够精准**  \n",
        "模型参数默认为small  \n",
        "既然白嫖colab的GPU，我们可以修改为medium甚至large😀  \n",
        " *实际转录中出现了设置模型过大的时候无法正常转录的情况初步判断应该是内存不够的问题*\n",
        "*   **导入的流是1080P担心影响转录速度**  \n",
        "正常来说ffmpeg会自动分离出音频流所以影响不大  \n",
        "如果还是怕1080P的直播分片下载会卡  \n",
        "这里可以手动去配置文件修改为worst拉取144p的流  \n",
        "作者默认的audio_only参数对于youtube直播是无效的\n",
        "\n",
        "\n",
        "\n",
        "\n"
      ],
      "metadata": {
        "id": "jBPFRC43fD5S"
      }
    },
    {
      "cell_type": "markdown",
      "source": [
        "在上一次曾经打开的文件夹里找到translator.py文件  \n",
        "双击打开定位到167行def cli()这个函数里  \n",
        "里面所有default对应的值就是默认值  \n",
        "按照上面的需求我们可以按照如下修改  \n",
        "--model medium  \n",
        "--task transcribe  \n",
        "--language Japanese（按照实际需求）  \n",
        "--preferred_quality worst  \n",
        "重新跑一遍试试看吧！  \n",
        "注意加入新模型的时候要先下载"
      ],
      "metadata": {
        "id": "tvBpp56BhxSf"
      }
    },
    {
      "cell_type": "code",
      "source": [
        "!python3 stream-translator/translator.py https://www.youtube.com/watch?v=arA8dig-S9o"
      ],
      "metadata": {
        "colab": {
          "base_uri": "https://localhost:8080/"
        },
        "id": "ES05tKOuic4X",
        "outputId": "ddb0ea7c-5059-4423-be38-afb6f8d83f5a"
      },
      "execution_count": null,
      "outputs": [
        {
          "output_type": "stream",
          "name": "stdout",
          "text": [
            "Loading model...\n",
            "100%|█████████████████████████████████████| 1.42G/1.42G [00:24<00:00, 62.8MiB/s]\n",
            "tcmalloc: large alloc 1528012800 bytes == 0x6632000 @  0x7fde91cee1e7 0x4b2590 0x5ad01c 0x5dcfef 0x58f92b 0x590c33 0x5e48ac 0x4d20fa 0x51041f 0x58fd37 0x50c4fc 0x5b4ee6 0x58ff2e 0x510325 0x5b4ee6 0x4bad0a 0x50e18c 0x58fd37 0x50c4fc 0x5b4ee6 0x6005a3 0x607796 0x60785c 0x60a436 0x64db82 0x64dd2e 0x7fde918ebc87 0x5b636a\n",
            "Opening stream...\n",
            "[cli][info] streamlink is running as root! Be careful!\n",
            "[cli][info] Found matching plugin youtube for URL https://www.youtube.com/watch?v=arA8dig-S9o\n",
            "[cli][info] Available streams: 144p (worst), 240p, 360p, 480p, 720p, 1080p (best)\n",
            "[cli][info] Opening stream: 144p (hls)\n",
            "16:34:19  やめきかないでな\n",
            "16:34:23  オッシャとアロンね!オッシャから!\n",
            "16:34:23  アラオカ\n",
            "16:34:25  で、待ってやばいやばいその連携やばい!OKOK\n",
            "16:34:27  ちょっとちょっとちょっとちょっとちょっと1個とった\n",
            "16:34:33  見逃してえ、なんか、え?\n",
            "16:34:38  こんなんこういう気がするのこいつにんにくばたけの\n",
            "16:34:43  やばいやばいやばい死ぬ死ぬ死ぬ\n",
            "16:34:49  いや待って犬の落とし物を信じていいのかわかんないナイスクリームでしょ\n",
            "16:34:54  プレギシミ特に?逃げる逃げる\n",
            "16:34:57  ここじゃねえんだぞもうやれ!よし、ねえ\n",
            "16:35:04  どうだったら?いや、アタッカーガンのほんと来てんじゃん\n",
            "16:35:08  いやーそっちへ行くんだ今回!待って行きたい!\n",
            "16:35:13  ちょっと待って!腕にしてよ腕に!\n",
            "16:35:18  腕にすんだら腕にするって言えよ!\n",
            "16:35:23  まだある!\n",
            "16:35:27  おけおけ\n",
            "16:35:33  でこっちか\n",
            "16:35:38  あーよかった出てんだあーもう\n",
            "16:35:44  注文が多い坂本いや坂本悪くないだろどう考えたもん\n",
            "16:35:47  被害者だったよ?\n",
            "16:35:54  もしかして もしかしなくて\n",
            "16:35:58  でも、インキノリ戦闘ガーズを取り残しますか?\n",
            "16:36:03  ねえ終わった\n",
            "16:36:07\n",
            "16:36:15  7つ7つの人間の魂それさえ手に入れば我らが多い\n",
            "16:36:18  あずごはドリーマン王は神となる\n",
            "16:36:25  手に入れば、アズゴアオウはついにバリアを破ることができる。なんかさぁ、\n",
            "16:36:29  アズゴアドリンマーモっていう名前の表記がそれぞれ違うようなの気になる\n",
            "16:36:34  人間どもの手から地上の世界を奪還し\n",
            "16:36:39  我らが味わった苦しみをお前たちに そっくりそのまま返してやるのだ\n",
            "16:36:44  よいか人間 これ悪さまにとって最初に最後の通り\n",
            "16:36:48  償いのチャンス 己の魂を差し出せさも無くば\n",
            "16:36:53  頭の体から引きずり出してやる\n",
            "16:36:56\n",
            "16:37:04  俺も一緒に届こうぜ!え、なんだよね?\n",
            "16:37:08  すっげー本題に会えたじゃんやったなー\n",
            "16:37:14  しかも戦うところこんな近くで見られるぜ!\n",
            "16:37:17  やがき そうじゃ気づいたか?\n",
            "16:37:23  ピアガキ!\n",
            "16:37:27  この場合何になるの?\n",
            "16:37:33  かわいいな\n",
            "16:37:37  本当にピアだなぁこっち?\n",
            "16:37:44  すっごいお鼻の量私の願い事教えてあげたまにんけ\n",
            "16:37:48  笑わないって約束する?笑うわけないでしょ\n",
            "16:37:54  私たちが閉じ込まれているこの山の頂上に\n",
            "16:37:59  いつか登ってみたい 空の下に立ってどこまでも続く世界をこの目で見てみたいそれが願い\n",
            "16:38:04  ちょっと笑わないと約束し…\n",
            "16:38:08  ごめんごめだって私の\n",
            "16:38:14  意外と同じだったからチー!のこよピアー!\n",
            "16:38:19  地上を見しものすなわち 天使は前戻る天使が戻るとき 地底の\n",
            "16:38:24  この世界は無人となるだろう天使?\n",
            "16:38:28  地上の世界を見るものって言われたら 人間かなと思うけど\n",
            "16:38:33  ました。\n",
            "16:38:37  うん\n",
            "Traceback (most recent call last):\n",
            "  File \"stream-translator/translator.py\", line 226, in <module>\n",
            "    cli()\n",
            "  File \"stream-translator/translator.py\", line 222, in cli\n",
            "    main(url, **args)\n",
            "  File \"stream-translator/translator.py\", line 124, in main\n",
            "    in_bytes = process1.stdout.read(n_bytes)\n",
            "KeyboardInterrupt\n"
          ]
        }
      ]
    },
    {
      "cell_type": "markdown",
      "source": [
        "😎你也来试试看吧！"
      ],
      "metadata": {
        "id": "-ps3v-S2j6k1"
      }
    }
  ],
  "metadata": {
    "accelerator": "GPU",
    "colab": {
      "provenance": [],
      "include_colab_link": true
    },
    "gpuClass": "standard",
    "kernelspec": {
      "display_name": "Python 3 (ipykernel)",
      "language": "python",
      "name": "python3"
    },
    "language_info": {
      "codemirror_mode": {
        "name": "ipython",
        "version": 3
      },
      "file_extension": ".py",
      "mimetype": "text/x-python",
      "name": "python",
      "nbconvert_exporter": "python",
      "pygments_lexer": "ipython3",
      "version": "3.9.9"
    }
  },
  "nbformat": 4,
  "nbformat_minor": 0
}